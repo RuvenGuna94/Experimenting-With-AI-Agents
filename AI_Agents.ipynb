{
 "cells": [
  {
   "cell_type": "markdown",
   "metadata": {},
   "source": [
    "# Building with AI Agents\n",
    "\n",
    "## What is an AI Agent?\n",
    "An **AI agent** is a system that perceives its environment, processes information, and takes actions to achieve specific goals. AI agents use algorithms, models, and decision-making frameworks to interact with their surroundings intelligently.\n",
    "\n",
    "This is different from applications such as ChatGPT which are not able to fulfil the \"do action\" criteria of AI Agents, for example, load a website and schedule posts. Note, LLMs are the \"brains\" for AI Agents, better LLMs will provide agents with better reasoning, long-term memory, multimodality, etc.\n",
    "\n",
    "## Key Components of an AI Agent\n",
    "1. **Perception**: Gathers data from the environment using sensors, APIs, or databases.\n",
    "2. **Processing & Reasoning**: Uses machine learning models, logic-based algorithms, or heuristics to analyze data and make decisions.\n",
    "3. **Action**: Executes tasks based on the analysis, interacting with the environment.\n",
    "4. **Learning**: Adapts based on past experiences, using reinforcement learning, supervised learning, or unsupervised learning.\n",
    "\n",
    "## Types of AI Agents\n",
    "1. **Reactive Agents**: Respond to stimuli without storing past experiences (e.g., chess-playing AI).\n",
    "2. **Model-Based Agents**: Maintain internal representations of the environment to predict future states.\n",
    "3. **Goal-Based Agents**: Take actions that lead to predefined objectives.\n",
    "4. **Utility-Based Agents**: Optimize decisions based on a utility function for best outcomes.\n",
    "5. **Learning Agents**: Continuously improve by learning from interactions with the environment.\n",
    "\n",
    "## Applications of AI Agents\n",
    "- **Autonomous Vehicles**: AI agents process sensor data to make driving decisions.\n",
    "- **Chatbots & Virtual Assistants**: Agents like ChatGPT interact with users and provide responses.\n",
    "- **Game AI**: Non-player characters (NPCs) use AI agents to behave intelligently in games.\n",
    "- **Financial Trading**: AI agents analyze market data to make automated trades.\n",
    "- **Healthcare**: AI-powered diagnostics and personalized medicine.\n",
    "\n",
    "## AI Agent Frameworks\n",
    "- Most popular:\n",
    "    - AutoGPT (first widely adopted agent framework)\n",
    "    - BabyAGI\n",
    "    - CrewAI\n",
    "    - AutoGen\n",
    "    - MultiOn\n",
    "    - ChatDev\n",
    "    - MetaGPT\n",
    "- CrewAI\n",
    "    - Perfect for begineers\n",
    "    - No complex setup\n",
    "    - Detailed documentation, fully open-sourced with the developers constantly providing updates"
   ]
  },
  {
   "cell_type": "markdown",
   "metadata": {},
   "source": [
    "# AI Agents with CrewAI\n",
    "\n",
    "First, we install the required libraries."
   ]
  },
  {
   "cell_type": "code",
   "execution_count": 1,
   "metadata": {},
   "outputs": [],
   "source": [
    "!pip install -q crewai crewai-tools langchain langchain_community python-dotenv"
   ]
  },
  {
   "cell_type": "markdown",
   "metadata": {},
   "source": [
    "Import the required libraries"
   ]
  },
  {
   "cell_type": "code",
   "execution_count": 2,
   "metadata": {},
   "outputs": [],
   "source": [
    "import os\n",
    "\n",
    "from crewai import Agent, Task, Crew, Process\n",
    "from crewai_tools import SerperDevTool\n",
    "\n",
    "from langchain_openai import ChatOpenAI\n",
    "\n",
    "from dotenv import load_dotenv"
   ]
  },
  {
   "cell_type": "markdown",
   "metadata": {},
   "source": [
    "Import the API Keys"
   ]
  },
  {
   "cell_type": "code",
   "execution_count": 3,
   "metadata": {},
   "outputs": [],
   "source": [
    "# Load environment variables from the .env file (if present)\n",
    "load_dotenv()\n",
    "\n",
    "# Access environment variables as if they came from the actual environment\n",
    "OPENAI_API_KEY = os.getenv('OPENAI_API_KEY')\n",
    "SERPER_API_KEY = os.getenv('SERPER_API_KEY')"
   ]
  },
  {
   "cell_type": "code",
   "execution_count": null,
   "metadata": {},
   "outputs": [],
   "source": []
  },
  {
   "cell_type": "code",
   "execution_count": null,
   "metadata": {},
   "outputs": [],
   "source": []
  },
  {
   "cell_type": "code",
   "execution_count": null,
   "metadata": {},
   "outputs": [],
   "source": []
  },
  {
   "cell_type": "code",
   "execution_count": null,
   "metadata": {},
   "outputs": [],
   "source": []
  },
  {
   "cell_type": "code",
   "execution_count": null,
   "metadata": {},
   "outputs": [],
   "source": []
  },
  {
   "cell_type": "code",
   "execution_count": null,
   "metadata": {},
   "outputs": [],
   "source": []
  },
  {
   "cell_type": "code",
   "execution_count": null,
   "metadata": {},
   "outputs": [],
   "source": []
  },
  {
   "cell_type": "code",
   "execution_count": null,
   "metadata": {},
   "outputs": [],
   "source": []
  },
  {
   "cell_type": "code",
   "execution_count": null,
   "metadata": {},
   "outputs": [],
   "source": []
  },
  {
   "cell_type": "code",
   "execution_count": null,
   "metadata": {},
   "outputs": [],
   "source": []
  },
  {
   "cell_type": "code",
   "execution_count": null,
   "metadata": {},
   "outputs": [],
   "source": []
  },
  {
   "cell_type": "code",
   "execution_count": null,
   "metadata": {},
   "outputs": [],
   "source": []
  },
  {
   "cell_type": "code",
   "execution_count": null,
   "metadata": {},
   "outputs": [],
   "source": []
  },
  {
   "cell_type": "code",
   "execution_count": null,
   "metadata": {},
   "outputs": [],
   "source": []
  },
  {
   "cell_type": "code",
   "execution_count": null,
   "metadata": {},
   "outputs": [],
   "source": []
  },
  {
   "cell_type": "code",
   "execution_count": null,
   "metadata": {},
   "outputs": [],
   "source": []
  },
  {
   "cell_type": "markdown",
   "metadata": {},
   "source": []
  }
 ],
 "metadata": {
  "kernelspec": {
   "display_name": "TD_GENAI",
   "language": "python",
   "name": "python3"
  },
  "language_info": {
   "codemirror_mode": {
    "name": "ipython",
    "version": 3
   },
   "file_extension": ".py",
   "mimetype": "text/x-python",
   "name": "python",
   "nbconvert_exporter": "python",
   "pygments_lexer": "ipython3",
   "version": "3.11.11"
  }
 },
 "nbformat": 4,
 "nbformat_minor": 2
}
